{
  "cells": [
    {
      "cell_type": "code",
      "execution_count": null,
      "metadata": {
        "colab": {
          "base_uri": "https://localhost:8080/"
        },
        "id": "thGJvs0doSPo",
        "outputId": "0ef58423-9517-4b04-9200-e474538f2372"
      },
      "outputs": [
        {
          "name": "stdout",
          "output_type": "stream",
          "text": [
            "Drive already mounted at /content/drive; to attempt to forcibly remount, call drive.mount(\"/content/drive\", force_remount=True).\n"
          ]
        }
      ],
      "source": [
        "from google.colab import drive\n",
        "import numpy as np\n",
        "import math\n",
        "import random\n",
        "from sklearn.metrics import accuracy_score\n",
        "from sklearn.neighbors import KNeighborsClassifier\n",
        "import pickle\n",
        "from collections import Counter\n",
        "import matplotlib.pyplot as plt\n",
        "from sklearn.cluster import KMeans\n",
        "from sklearn.metrics import pairwise_distances\n",
        "from scipy.optimize import linear_sum_assignment\n",
        "from sklearn.decomposition import PCA\n",
        "from sklearn.preprocessing import MinMaxScaler\n",
        "import pickle, os\n",
        "\n",
        "drive.mount('/content/drive')"
      ]
    },
    {
      "cell_type": "code",
      "execution_count": null,
      "metadata": {
        "id": "7VPW0_60nfI2"
      },
      "outputs": [],
      "source": [
        "def load_dataset(name_file):\n",
        "\n",
        "    desired_directory = '/content/drive/MyDrive/project' # Replace with your desired directory path\n",
        "\n",
        "    file_path = os.path.join(desired_directory, name_file)\n",
        "\n",
        "    with open(file_path, 'rb') as f:\n",
        "        data_dict = pickle.load(f)\n",
        "\n",
        "    return data_dict"
      ]
    },
    {
      "cell_type": "code",
      "execution_count": null,
      "metadata": {
        "colab": {
          "base_uri": "https://localhost:8080/"
        },
        "id": "fZmsJG8Ln3ja",
        "outputId": "ac9ab3ce-06e2-42ec-c6d6-97472402ce26"
      },
      "outputs": [],
      "source": [
        "loaders_dict = load_dataset(f\"dataset-flowers102-features.pkl\")\n",
        "x_train = loaders_dict[\"x_train\"]\n",
        "x_test = loaders_dict[\"x_test\"]\n",
        "y_train = loaders_dict[\"y_train\"]\n",
        "y_test = loaders_dict[\"y_test\"]\n",
        "print(f\"x_train:{x_train.shape}, y_train:{y_train.shape}\")\n",
        "print(f\"x_test:{x_test.shape}, y_test:{y_test.shape}\")"
      ]
    },
    {
      "cell_type": "code",
      "execution_count": null,
      "metadata": {
        "id": "v8Ipa42gqrV5"
      },
      "outputs": [],
      "source": [
        "cluster = KMeans(n_clusters=50, n_init=10, random_state=42).fit(x_train)\n",
        "# cluster = KMeans(n_clusters=50, n_init=10, random_state=42, algorithm='auto', precompute_distances='manhattan').fit(x_train)\n",
        "# cluster = KMeans(n_clusters=50, n_init=10, random_state=42,metric=distance_metric('manhattan')).fit(x_train)\n",
        "labelsDB = cluster.labels_\n",
        "centers = cluster.cluster_centers_\n"
      ]
    },
    {
      "cell_type": "code",
      "execution_count": null,
      "metadata": {
        "id": "jXC5298hiv1w"
      },
      "outputs": [],
      "source": [
        "def groupByLabels(data_labels,kmean_labels):\n",
        "  group={}\n",
        "  vec_to_group={}\n",
        "  for vec,label in zip(data_labels,kmean_labels):\n",
        "    if(label not in group.keys()):\n",
        "      group[label]=[]\n",
        "    group[label].append(vec)\n",
        "\n",
        "  return group\n",
        "group=groupByLabels(y_train,labelsDB)"
      ]
    },
    {
      "cell_type": "code",
      "execution_count": null,
      "metadata": {
        "colab": {
          "base_uri": "https://localhost:8080/"
        },
        "id": "dc_AySdsiknI",
        "outputId": "d91bfb11-ebe4-4aed-d822-b69f1acec521"
      },
      "outputs": [],
      "source": [
        "def purityy(group):\n",
        "  sum=0;\n",
        "  list_of_purity=[]\n",
        "  clusts=0\n",
        "  label_of_clust=[]\n",
        "  for clust in group.values():\n",
        "    max_label=Counter(clust).most_common(1)[0]\n",
        "    label_of_clust.append(max_label[0])\n",
        "    # print(max_label)\n",
        "    list_of_purity.append((len(clust),max_label[1]/len(clust)))\n",
        "\n",
        "    clusts+=len(clust)\n",
        "    sum+=max_label[1]\n",
        "  return list_of_purity,sum/clusts,label_of_clust\n",
        "\n",
        "\n",
        "list_of_purity,sum,label_of_clust=purityy(group)\n",
        "print(f\"list_of_purity{list_of_purity}\")\n",
        "print(f\"sum_of_purity{sum}\")\n",
        "print(f\"label_of_cluster{label_of_clust}\")\n"
      ]
    },
    {
      "cell_type": "code",
      "execution_count": null,
      "metadata": {
        "colab": {
          "base_uri": "https://localhost:8080/"
        },
        "id": "phecXrXFaxPW",
        "outputId": "bf17e3d3-528a-4860-c02d-8f481625c61a"
      },
      "outputs": [],
      "source": [
        "from itertools import combinations\n",
        "from sklearn.metrics import rand_score\n",
        "\n",
        "def rand_index(cluster1, cluster2):\n",
        "    \"\"\"\n",
        "    Computes the Rand Index between two clusterings.\n",
        "\n",
        "    Arguments:\n",
        "    cluster1 -- List or array containing the first clustering\n",
        "    cluster2 -- List or array containing the second clustering\n",
        "\n",
        "    Returns:\n",
        "    rand_index -- Rand Index value between the two clusterings\n",
        "    \"\"\"\n",
        "    if len(cluster1) != len(cluster2):\n",
        "        raise ValueError(\"Both clusterings must have the same length\")\n",
        "\n",
        "    n = len(cluster1)\n",
        "    a = 0  # Number of pairs that are in the same cluster in both clusterings\n",
        "    b = 0  # Number of pairs that are in different clusters in both clusterings\n",
        "\n",
        "    for i in range(n-1):\n",
        "        for j in range(i+1, n):\n",
        "\n",
        "            # print(f'c1:{cluster1[i]}, {cluster1[j]}')\n",
        "            # print(f'c2:{cluster2[i]}, {cluster2[j]}')\n",
        "            if cluster1[i] == cluster1[j] and cluster2[i] == cluster2[j]:\n",
        "                a += 1\n",
        "            elif cluster1[i] != cluster1[j] and cluster2[i] != cluster2[j]:\n",
        "                b += 1\n",
        "    total=n * (n - 1) / 2\n",
        "\n",
        "    print(f\"TP:{a},TN:{b},total={total}\")\n",
        "    rand_index = (a + b) / (n * (n - 1) / 2)\n",
        "    return rand_index\n",
        "\n",
        "def predict_label(data):\n",
        "  lists=[]\n",
        "  for i in data:\n",
        "    lists.append( label_of_clust[i])\n",
        "  return lists\n",
        "\n",
        "\n",
        "print('rand index=' ,rand_index(y_train,labelsDB ))\n"
      ]
    },
    {
      "cell_type": "code",
      "execution_count": null,
      "metadata": {
        "colab": {
          "base_uri": "https://localhost:8080/",
          "height": 465
        },
        "id": "hvoBIzA3Zoqm",
        "outputId": "864ea6e0-42d9-47da-e6ee-df6f83b3771c"
      },
      "outputs": [],
      "source": [
        "from sklearn.cluster import KMeans\n",
        "from sklearn.decomposition import PCA\n",
        "import matplotlib.pyplot as plt\n",
        "\n",
        "\n",
        "# kmeans = KMeans(n_clusters=3)  # Change the number of clusters as needed\n",
        "# kmeans.fit(x_train)\n",
        "\n",
        "pca = PCA(3)  # We specify 2 to indicate the number of dimensions we want\n",
        "data_pca = pca.fit_transform(x_train)\n",
        "\n",
        "plt.scatter(data_pca[:, 0], data_pca[:, 1], data_pca[:, 2] ,c=labelsDB)\n",
        "plt.show()\n",
        "\n"
      ]
    },
    {
      "cell_type": "code",
      "execution_count": null,
      "metadata": {
        "colab": {
          "base_uri": "https://localhost:8080/",
          "height": 576
        },
        "id": "Dg9o6UOJdUOi",
        "outputId": "b491e21e-3562-4d7b-d9e0-13a385c57de2"
      },
      "outputs": [],
      "source": [
        "# Reduce the dimensionality of the data to 3D using PCA\n",
        "pca = PCA(n_components=3)\n",
        "vectors_reduced = pca.fit_transform(x_train)\n",
        "\n",
        "# Plot the data points and the cluster centroids\n",
        "fig = plt.figure(figsize = (10, 7))\n",
        "ax = plt.axes(projection =\"3d\")\n",
        "sctt =ax.scatter(vectors_reduced[:, 0], vectors_reduced[:, 1], vectors_reduced[:,2] , c=labelsDB ,cmap='gist_rainbow' )\n",
        "# centroids_reduced = pca.transform(cluster.cluster_centers_)\n",
        "# ax.scatter(centroids_reduced[:, 0], centroids_reduced[:, 1], centroids_reduced[:, 2], marker='x', color='black')\n",
        "plt.show()"
      ]
    },
    {
      "cell_type": "code",
      "execution_count": null,
      "metadata": {
        "colab": {
          "base_uri": "https://localhost:8080/",
          "height": 430
        },
        "id": "7Zq-8Ng9pmBS",
        "outputId": "37fa21ea-54df-4cc4-de5e-b2cef1d97ce0"
      },
      "outputs": [],
      "source": [
        "from sklearn.manifold import TSNE\n",
        "tsne = TSNE(n_components=2, random_state=0)\n",
        "vectors_reduced = tsne.fit_transform(x_train)\n",
        "\n",
        "# Plot the data points and the cluster centroids\n",
        "plt.scatter(vectors_reduced[:, 0], vectors_reduced[:, 1], c=labelsDB ,cmap='gist_rainbow')\n",
        "\n",
        "plt.show()"
      ]
    },
    {
      "cell_type": "code",
      "execution_count": null,
      "metadata": {
        "colab": {
          "base_uri": "https://localhost:8080/",
          "height": 576
        },
        "id": "4pyKimZWn6KN",
        "outputId": "2984d7a7-4fe7-4063-e81f-7cd58281cf6f"
      },
      "outputs": [],
      "source": [
        "tsne = TSNE(n_components=3, random_state=0)\n",
        "vectors_reduced = tsne.fit_transform(x_train)\n",
        "\n",
        "# Plot the data points and the cluster centroids\n",
        "fig = plt.figure(figsize = (10, 7))\n",
        "ax = plt.axes(projection =\"3d\")\n",
        "sctt =ax.scatter(vectors_reduced[:, 0], vectors_reduced[:, 1],vectors_reduced[:, 2], c=labelsDB ,cmap='gist_rainbow')\n",
        "plt.show()"
      ]
    },
    {
      "cell_type": "code",
      "execution_count": null,
      "metadata": {
        "id": "BMZ1OPJOsxV0"
      },
      "outputs": [],
      "source": [
        "\n",
        "def calculate_distance(x_test ,centers):\n",
        "  distance_list=[]\n",
        "  for  i,test in enumerate(x_test):\n",
        "      distance_list.append([])\n",
        "      for index,cent in enumerate(centers):\n",
        "          dist = np.linalg.norm(test - cent)\n",
        "          distance_list[i].append((index, dist))\n",
        "      distance_list[i].sort(key=lambda x: x[1])\n",
        "  return distance_list"
      ]
    },
    {
      "cell_type": "code",
      "execution_count": null,
      "metadata": {
        "id": "hTCuWxnd5owt"
      },
      "outputs": [],
      "source": [
        "# distance_list=np.load('/content/drive/MyDrive/project/distances.npy')\n",
        "distance_list=calculate_distance(x_test,centers)\n",
        "\n",
        "np.save('/content/drive/MyDrive/project/distances',distance_list)"
      ]
    },
    {
      "cell_type": "code",
      "execution_count": null,
      "metadata": {
        "id": "O02euy0SmTSL"
      },
      "outputs": [],
      "source": [
        "def find_most_common_elements(data_list):\n",
        "    counter = Counter(data_list)\n",
        "    max_count = max(counter.values())\n",
        "    most_common = [k for k, v in counter.items() if v == max_count]\n",
        "    return most_common\n",
        "\n",
        "# a=[3,4,5,6,3,3,4,5,5,6,6,4]\n",
        "# find_most_common_elements(a)\n",
        "\n",
        "# data = [1, 2, 3, 4, 2, 3, 2, 4, 4, 4]\n",
        "# most_common_elements = find_most_common_elements(data)\n",
        "# print(\"Most common elements:\", most_common_elements)"
      ]
    },
    {
      "cell_type": "code",
      "execution_count": null,
      "metadata": {
        "id": "sNY7JmK8p24A"
      },
      "outputs": [],
      "source": [
        "def meanbylabel(data):\n",
        "  group={}\n",
        "  lists={}\n",
        "  for index,dis in data:\n",
        "    label=y_train[index]\n",
        "    if(label not in group.keys()):\n",
        "      group[label]=[]\n",
        "    group[label].append(dis)\n",
        "    # vec_to_group[f'{vec}']=label\n",
        "  for i in group.keys():\n",
        "    lists[i]=np.mean(group[i])\n",
        "  return lists\n",
        "\n",
        "# d=[(0,3),(1,4),(2,5),(3,7)]\n",
        "# groupbylabel(d)"
      ]
    },
    {
      "cell_type": "code",
      "execution_count": null,
      "metadata": {
        "colab": {
          "base_uri": "https://localhost:8080/"
        },
        "id": "ZtxaZCw9koEA",
        "outputId": "73dda734-500b-407a-b0f5-71b47ee8bcbb"
      },
      "outputs": [
        {
          "data": {
            "text/plain": [
              "[44, 0, 15]"
            ]
          },
          "execution_count": 10,
          "metadata": {},
          "output_type": "execute_result"
        }
      ],
      "source": [
        "def get_nearest(datapoint, k):\n",
        "  dist = cluster.transform([datapoint])\n",
        "  result=[x for  x in enumerate(dist[0])]\n",
        "  # print(result)\n",
        "  result = sorted(result, key=lambda x: x[1], reverse=False)\n",
        "  # print(result)\n",
        "  return [i[0] for i in result[:k]]\n",
        "\n",
        "\n",
        "get_nearest(x_test[0],3)"
      ]
    },
    {
      "cell_type": "code",
      "execution_count": null,
      "metadata": {
        "id": "frUczY2VnvxG"
      },
      "outputs": [],
      "source": [
        "# neigh = KNeighborsClassifier(n_neighbors=3)\n",
        "# neigh.fit(x_train, y_train)\n",
        "# y_pred=neigh.predict(x_test)\n",
        "# acc=accuracy_score(y_test,y_pred)\n",
        "# acc"
      ]
    },
    {
      "cell_type": "code",
      "execution_count": null,
      "metadata": {
        "id": "fGPmORVW0bij"
      },
      "outputs": [],
      "source": [
        "info={}\n",
        "def save(n,k,scores):\n",
        "  info['n']=n\n",
        "  info['k']=k\n",
        "  info['scores']=scores\n",
        "  with open('/content/drive/MyDrive/project/scores2.pkl', 'wb') as handle:\n",
        "      pickle.dump(info, handle, protocol=pickle.HIGHEST_PROTOCOL)\n",
        "\n",
        "def load():\n",
        "  with open('/content/drive/MyDrive/project/scores.pkl', 'rb') as handle:\n",
        "      info = pickle.load(handle)\n",
        "  return info['n'], info['k'],info['scores']"
      ]
    },
    {
      "cell_type": "code",
      "execution_count": null,
      "metadata": {
        "id": "KQ8AOejY5w1K"
      },
      "outputs": [],
      "source": [
        "start_n,start_k,scores=load()"
      ]
    },
    {
      "cell_type": "code",
      "execution_count": null,
      "metadata": {
        "colab": {
          "base_uri": "https://localhost:8080/"
        },
        "id": "PpHEQU6t8yg4",
        "outputId": "ca66dee6-f74c-4d00-cfa6-ce6bd5eb88ee"
      },
      "outputs": [
        {
          "name": "stdout",
          "output_type": "stream",
          "text": [
            "n=9,,k=6, sc=83.206105006105, acc=0.85006105006105\n",
            "n=9,,k=7, sc=83.3037851037851, acc=0.851037851037851\n",
            "n=9,,k=8, sc=82.88864468864469, acc=0.8468864468864469\n",
            "n=9,,k=9, sc=83.05958485958486, acc=0.8485958485958486\n",
            "---------------------------\n",
            "[(1, 1, 80.04420024420024), (1, 2, 78.798778998779), (1, 3, 79.06739926739927), (1, 4, 79.36043956043956), (1, 5, 78.798778998779), (1, 6, 78.65225885225885), (1, 7, 78.23711843711844), (1, 8, 78.04175824175825), (1, 9, 77.87081807081807), (2, 1, 81.82222222222221), (2, 2, 80.43028083028082), (2, 3, 81.77338217338216), (2, 4, 82.2129426129426), (2, 5, 82.1152625152625), (2, 6, 81.70012210012209), (2, 7, 81.96874236874235), (2, 8, 81.79780219780218), (2, 9, 81.45592185592184), (3, 1, 82.28156288156289), (3, 2, 80.81636141636142), (3, 3, 82.81880341880343), (3, 4, 82.9897435897436), (3, 5, 83.40488400488401), (3, 6, 83.28278388278389), (3, 7, 83.18510378510379), (3, 8, 82.96532356532357), (3, 9, 82.7943833943834), (4, 1, 82.32576312576313), (4, 2, 80.93382173382173), (4, 3, 82.96068376068376), (4, 4, 83.32698412698413), (4, 5, 83.86422466422466), (4, 6, 83.54676434676435), (4, 7, 83.4979242979243), (4, 8, 83.62002442002442), (4, 9, 83.44908424908425), (5, 1, 82.36996336996337), (5, 2, 80.97802197802197), (5, 3, 82.73626373626374), (5, 4, 83.32234432234432), (5, 5, 83.63980463980464), (5, 6, 83.56654456654456), (5, 7, 83.61538461538461), (5, 8, 83.61538461538461), (5, 9, 83.66422466422466), (6, 1, 82.12112332112332), (6, 2, 80.7047619047619), (6, 3, 82.60952380952381), (6, 4, 83.19560439560439), (6, 5, 83.56190476190476), (6, 6, 83.36654456654456), (6, 7, 83.51306471306471), (6, 8, 83.58632478632478), (6, 9, 83.6107448107448), (7, 1, 81.96996336996337), (7, 2, 80.70012210012209), (7, 3, 82.55604395604395), (7, 4, 83.21538461538461), (7, 5, 83.43516483516483), (7, 6, 83.5084249084249), (7, 7, 83.45958485958485), (7, 7, 83.45958485958485), (7, 8, 83.58168498168497), (7, 9, 83.5084249084249), (8, 7, 83.5037851037851), (8, 8, 83.45494505494506), (8, 1, 81.7943833943834), (8, 2, 80.52454212454212), (8, 3, 82.25836385836386), (8, 4, 82.9909645909646), (8, 5, 83.28400488400489), (8, 6, 83.25958485958486), (8, 7, 83.5037851037851), (8, 8, 83.45494505494506), (8, 9, 83.35726495726496), (9, 1, 81.66764346764347), (9, 2, 80.34896214896214), (9, 3, 82.20488400488401), (9, 4, 82.88864468864469), (9, 5, 83.206105006105), (9, 6, 83.15726495726496), (9, 7, 83.37704517704518), (9, 8, 83.32820512820513), (9, 9, 83.23052503052503), (9, 9, 83.23052503052503), (9, 9, 83.23052503052503), (1, 1, 80.4105006105006), (1, 2, 79.01855921855922), (1, 3, 79.40927960927961), (1, 4, 79.48253968253968), (1, 5, 78.92087912087912), (1, 6, 78.7010989010989), (1, 7, 78.57899877899878), (1, 8, 78.0905982905983), (1, 9, 77.67545787545788), (2, 1, 82.28620268620267), (2, 2, 80.77216117216116), (2, 3, 81.77338217338216), (2, 4, 82.18852258852257), (2, 5, 82.40830280830279), (2, 6, 81.96874236874235), (2, 7, 81.87106227106226), (2, 8, 81.70012210012209), (2, 9, 81.35824175824175), (3, 1, 82.72112332112333), (3, 2, 81.35360195360195), (3, 3, 82.7943833943834), (3, 4, 83.28278388278389), (3, 5, 83.30720390720391), (3, 6, 83.06300366300367), (3, 7, 83.30720390720391), (3, 8, 82.81880341880343), (3, 9, 82.42808302808304), (4, 1, 82.71648351648352), (4, 2, 81.25128205128205), (4, 3, 82.86300366300367), (4, 4, 83.4979242979243), (4, 5, 83.64444444444445), (4, 6, 83.32698412698413), (4, 7, 83.42466422466423), (4, 8, 83.15604395604396), (4, 9, 83.00952380952381), (5, 1, 82.76068376068376), (5, 2, 81.27106227106226), (5, 3, 82.88278388278388), (5, 4, 83.46886446886447), (5, 5, 83.73748473748473), (5, 6, 83.34676434676435), (5, 7, 83.49328449328449), (5, 8, 83.2979242979243), (5, 9, 83.15140415140415), (6, 1, 82.48742368742369), (6, 2, 81.07106227106226), (6, 3, 82.78046398046398), (6, 4, 83.34212454212454), (6, 5, 83.7084249084249), (6, 6, 83.26886446886446), (6, 7, 83.43980463980463), (6, 8, 83.36654456654456), (6, 9, 83.24444444444444), (7, 1, 82.4095238095238), (7, 2, 81.04200244200243), (7, 3, 82.75140415140415), (7, 4, 83.33748473748473), (7, 5, 83.67936507936507), (7, 6, 83.26422466422466), (7, 7, 83.45958485958485), (7, 8, 83.28864468864468), (7, 9, 83.3130647130647), (8, 1, 82.23394383394384), (8, 2, 80.76874236874237), (8, 3, 82.45372405372406), (8, 4, 83.06422466422467), (8, 5, 83.40610500610501), (8, 6, 83.13748473748474), (8, 7, 83.33284493284494), (8, 8, 83.01538461538462), (8, 9, 83.13748473748474), (9, 1, 82.05836385836386), (9, 2, 80.59316239316239), (9, 3, 82.32698412698413), (9, 4, 82.96190476190476), (9, 1, 82.05836385836386), (9, 2, 80.59316239316239), (9, 3, 82.32698412698413), (9, 4, 82.96190476190476), (9, 5, 83.27936507936508), (9, 6, 83.206105006105), (9, 7, 83.3037851037851), (9, 6, 83.206105006105), (9, 7, 83.3037851037851), (9, 8, 82.88864468864469), (9, 9, 83.05958485958486)]\n"
          ]
        }
      ],
      "source": [
        "# from sklearn.neighbors import DistanceMetric\n",
        "\n",
        "for n in range(start_n,10):\n",
        "  for k in range(6,10):\n",
        "    predict_labels=[]\n",
        "    min=0\n",
        "    for i in range(len(x_test)):\n",
        "      point_list=[]\n",
        "      list_of_data=[]\n",
        "      list_of_labels=[]\n",
        "      selected_clusters= get_nearest(x_test[i],n)#[i[0] for i in distance_list[i][:n]]\n",
        "      for index,cluster_label in enumerate(labelsDB):\n",
        "        if(cluster_label in selected_clusters) :\n",
        "          list_of_data.append(x_train[index])\n",
        "          list_of_labels.append(y_train[index])\n",
        "      np.random.seed(42)\n",
        "      # dist = DistanceMetric.get_metric('manhattan')\n",
        "      # knn = NearestNeighbors(n_neighbors=1, metric=dist)\n",
        "      neigh = KNeighborsClassifier(n_neighbors=k , metric='manhattan')\n",
        "      neigh.fit(list_of_data, list_of_labels)\n",
        "      y_pred=neigh.predict([x_test[i]])\n",
        "      predict_labels.append(y_pred[0])\n",
        "      if(y_pred!=y_test[i])\n",
        "    acc=accuracy_score(y_test, predict_labels)\n",
        "\n",
        "    score=(acc*100)-(n*(0.2))\n",
        "    scores.append((n,k,score))\n",
        "\n",
        "    # purity = purity_score(y_test, predict_labels)\n",
        "    # rand_index_value = rand_index(y_test, predict_labels)\n",
        "\n",
        "    # print(f'Purity: {purity:.4f}')\n",
        "    # print(f'Rand Index: {rand_index_value:.4f}')\n",
        "\n",
        "    print(f'n={n},,k={k}, sc={score}, acc={acc}')\n",
        "    save(n,k,scores)\n",
        "  print(\"---------------------------\")\n",
        "\n",
        "print(scores)"
      ]
    },
    {
      "cell_type": "code",
      "execution_count": null,
      "metadata": {
        "id": "kMY59xuRGypm"
      },
      "outputs": [],
      "source": [
        "def get_unique(tuple_list):\n",
        "  result=[]\n",
        "  for t in tuple_list:\n",
        "    if(t not in result):\n",
        "      result.append(t)\n",
        "  return result\n",
        "\n",
        "scores=get_unique(scores)"
      ]
    },
    {
      "cell_type": "code",
      "execution_count": null,
      "metadata": {
        "colab": {
          "base_uri": "https://localhost:8080/"
        },
        "id": "yFMB55LKIbdl",
        "outputId": "7708c2dd-d2c8-4307-d137-b2b197e88f56"
      },
      "outputs": [],
      "source": [
        "scores.sort(key=lambda x: x[2], reverse=True)\n",
        "max_score=scores[0]\n",
        "scores"
      ]
    },
    {
      "cell_type": "code",
      "execution_count": null,
      "metadata": {
        "colab": {
          "base_uri": "https://localhost:8080/"
        },
        "id": "Oncq0USsk7OT",
        "outputId": "da7a8288-ba4c-4780-ad97-ba6475b1f638"
      },
      "outputs": [
        {
          "data": {
            "text/plain": [
              "(4, 5, 83.86422466422466)"
            ]
          },
          "execution_count": 205,
          "metadata": {},
          "output_type": "execute_result"
        }
      ],
      "source": [
        "max_score"
      ]
    },
    {
      "cell_type": "code",
      "execution_count": null,
      "metadata": {
        "id": "ykKjqiySAb6j"
      },
      "outputs": [],
      "source": [
        "def filter(condition,value,output,sortBy='score' ):\n",
        "  s={'n':0,'k':1,'score':2}\n",
        "  condition_index,target_index,sort_index= s[condition],s[output],s[sortBy]\n",
        "  scores.sort(key=lambda x: x[sort_index], reverse=True)\n",
        "\n",
        "  result=[]\n",
        "  my_map={}\n",
        "  for x in scores:\n",
        "    if(value==-1 or x[condition_index]==value ):\n",
        "        if(x[0]  not in my_map):\n",
        "          my_map[x[0]]={}\n",
        "        if(x[1] not in my_map[x[0]]):\n",
        "          my_map[x[0]][x[1]]=0;\n",
        "        my_map[x[0]][x[1]]=max( my_map[x[0]][x[1]],x[target_index])\n",
        "  for v in my_map.values():\n",
        "    for m in v.values():\n",
        "      result.append(m)\n",
        "  return result"
      ]
    },
    {
      "cell_type": "code",
      "execution_count": null,
      "metadata": {
        "id": "yBGM7Xq5_HhQ"
      },
      "outputs": [],
      "source": [
        "n_list=filter('k',5,'n',sortBy='n')\n",
        "k_list=filter('n',5,'k',sortBy='k')\n",
        "n_score_list=filter('k',5,'score',sortBy='n')\n",
        "k_score_list=filter('n',5,'score',sortBy='k')"
      ]
    },
    {
      "cell_type": "code",
      "execution_count": null,
      "metadata": {
        "colab": {
          "base_uri": "https://localhost:8080/",
          "height": 466
        },
        "id": "I_mYxDbb_k5n",
        "outputId": "d033a0ed-10f7-4240-e501-c1face264243"
      },
      "outputs": [],
      "source": [
        "plt.plot(n_list,n_score_list)\n",
        "plt.xlabel(\"n (k=5)\")\n",
        "plt.ylabel(\"scores\")"
      ]
    },
    {
      "cell_type": "code",
      "execution_count": null,
      "metadata": {
        "colab": {
          "base_uri": "https://localhost:8080/",
          "height": 466
        },
        "id": "MT-7A85ivxTI",
        "outputId": "c330d2f1-3464-4662-cc35-0036c6b41013"
      },
      "outputs": [],
      "source": [
        "plt.plot(k_list,k_score_list)\n",
        "plt.xlabel(\"k (n=5)\")\n",
        "plt.ylabel(\"scores\")"
      ]
    },
    {
      "cell_type": "code",
      "execution_count": null,
      "metadata": {
        "colab": {
          "base_uri": "https://localhost:8080/",
          "height": 34
        },
        "id": "NuojtIBfy8as",
        "outputId": "c4fcc9bf-f96e-4068-a836-658039cb263f"
      },
      "outputs": [],
      "source": [
        "all_score_list=filter('n',-1,'score')\n",
        "all_n_list=filter('k',-1,'n')\n",
        "all_k_list=filter('n',-1,'k')\n",
        "fig = plt.figure(figsize = (10, 7))\n"
      ]
    },
    {
      "cell_type": "code",
      "execution_count": null,
      "metadata": {
        "colab": {
          "base_uri": "https://localhost:8080/",
          "height": 611
        },
        "id": "ODcg8Z6w2HSR",
        "outputId": "0a6a87f4-20b6-44e7-e9d4-4491586730c0"
      },
      "outputs": [],
      "source": [
        "all_score_list=filter('n',-1,'score')\n",
        "all_n_list=filter('k',-1,'n')\n",
        "all_k_list=filter('n',-1,'k')\n",
        "fig = plt.figure(figsize = (10, 7))\n",
        "ax = plt.axes(projection =\"3d\")\n",
        "sctt =ax.scatter(all_n_list,all_k_list,all_score_list,cmap='gist_rainbow')\n",
        "ax.plot(max_score[0], max_score[1],max_score[2],'or')\n",
        "ax.set_xlabel(\"n\")\n",
        "ax.set_ylabel(\"k\")\n",
        "plt.show()"
      ]
    },
    {
      "cell_type": "code",
      "execution_count": null,
      "metadata": {
        "id": "Q32JMidZEspa"
      },
      "outputs": [],
      "source": [
        "arr=np.zeros((9,9))\n",
        "for i,j,k in zip(all_n_list,all_k_list,all_score_list):\n",
        "  arr[i-1][j-1]=k;\n"
      ]
    },
    {
      "cell_type": "code",
      "execution_count": null,
      "metadata": {
        "colab": {
          "base_uri": "https://localhost:8080/",
          "height": 466
        },
        "id": "Jl35Nd9vFn2R",
        "outputId": "9ad59109-23f0-4609-851a-49cd27580e2e"
      },
      "outputs": [],
      "source": [
        "import seaborn as sns\n",
        "ax= sns.heatmap(arr,fmt=\".2f\", annot=True,xticklabels=range(1,10),yticklabels=range(1,10),cmap=sns.color_palette(\"flare\", as_cmap=True))\n",
        "ax.set(xlabel=\"k\", ylabel=\"n\")\n"
      ]
    },
    {
      "cell_type": "code",
      "execution_count": null,
      "metadata": {
        "colab": {
          "base_uri": "https://localhost:8080/"
        },
        "id": "bPy78c0M8D71",
        "outputId": "a23d6654-2467-4657-984d-66567bbb76a4"
      },
      "outputs": [],
      "source": [
        "def check_clusters(clusters,flag=False):\n",
        "  count=0;\n",
        "  for c in clusters:\n",
        "    purity=list_of_purity[c][1]\n",
        "    if flag:\n",
        "       if(purity>0.7):\n",
        "          count+=1\n",
        "    else:\n",
        "        if(purity<0.4):\n",
        "          count+=1\n",
        "  return count>2\n",
        "\n",
        "k,n=4,5\n",
        "labels=[]\n",
        "min=0\n",
        "true_count=0\n",
        "false_count=0\n",
        "total_bad=0\n",
        "total_good=0\n",
        "true_good=0\n",
        "false_bad=0\n",
        "\n",
        "for i in range(len(x_test)):\n",
        "  print(f'i={i}')\n",
        "  point_list=[]\n",
        "  list_of_data=[]\n",
        "  list_of_labels=[]\n",
        "  selected_clusters= get_nearest(x_test[i],n)#[i[0] for i in distance_list[i][:n]]\n",
        "  for index,cluster_label in enumerate(labelsDB):\n",
        "    if(cluster_label in selected_clusters) :\n",
        "      list_of_data.append(x_train[index])\n",
        "      list_of_labels.append(y_train[index])\n",
        "  np.random.seed(42)\n",
        "  # dist = DistanceMetric.get_metric('manhattan')\n",
        "  # knn = NearestNeighbors(n_neighbors=1, metric=dist)\n",
        "  neigh = KNeighborsClassifier(n_neighbors=k , metric='manhattan')\n",
        "  neigh.fit(list_of_data, list_of_labels)\n",
        "  y_pred=neigh.predict([x_test[i]])\n",
        "  isGood=check_clusters(selected_clusters,True)\n",
        "  isBad=check_clusters(selected_clusters)\n",
        "  if(isGood):\n",
        "    total_good+=1\n",
        "  elif (isBad):\n",
        "    total_bad+=1\n",
        "\n",
        "  if(y_pred==y_test[i]):\n",
        "    true_count+=1\n",
        "    if(isGood):\n",
        "      true_good+=1\n",
        "  else:\n",
        "    false_count+=1\n",
        "    if(isBad):\n",
        "      false_bad+=1"
      ]
    },
    {
      "cell_type": "code",
      "execution_count": null,
      "metadata": {
        "colab": {
          "base_uri": "https://localhost:8080/"
        },
        "id": "qYyZJtY3VE2Q",
        "outputId": "79cdf480-e574-4006-9123-b80843375916"
      },
      "outputs": [],
      "source": [
        "print(f'select good clusters:{total_good}')\n",
        "print(f'true:{100*true_good/total_good} %')\n",
        "print(f'select bad clusters:{total_bad}')\n",
        "print(f'mistakes:{100*false_bad/total_bad} %')\n",
        "print(true_good/true_count)\n",
        "print(false_bad/false_count)"
      ]
    },
    {
      "cell_type": "code",
      "execution_count": null,
      "metadata": {
        "id": "LnAKbtaRUzUS"
      },
      "outputs": [],
      "source": [
        "        # dist = np.linalg.norm(x_test[i] - x_train[index] )\n",
        "        # point_list.append((index,dist))\n",
        "    # point_list.sort(key=lambda x: x[1],reverse=True)\n",
        "    # n2=int(len(list_of_data)/n)\n",
        "    # neigh = KNeighborsClassifier(n_neighbors=n2)\n",
        "    # neigh.fit(list_of_data, list_of_labels)\n",
        "    # label_list=[]\n",
        "    # for selected_point in point_list[:n2] :#second n\n",
        "    #   label_list.append(y_train[selected_point[0]])\n",
        "    # most_common_elements = find_most_common_elements(label_list)\n",
        "    # lists=meanbylabel(point_list)\n",
        "    # if len(most_common_elements) ==1 :\n",
        "    #   predict_labels.append(most_common_elements[0])\n",
        "    # else :\n",
        "    #   dist_in_list=[]\n",
        "    #   for m in lists.keys():\n",
        "    #     if m in most_common_elements:\n",
        "    #       dist_in_list.append(lists[m])\n",
        "    #   min=np.argmin(dist_in_list)\n",
        "    #   print(min)\n",
        "    #   predict_labels.append(most_common_elements[min])"
      ]
    }
  ],
  "metadata": {
    "accelerator": "GPU",
    "colab": {
      "provenance": []
    },
    "kernelspec": {
      "display_name": "Python 3",
      "name": "python3"
    },
    "language_info": {
      "name": "python"
    }
  },
  "nbformat": 4,
  "nbformat_minor": 0
}
